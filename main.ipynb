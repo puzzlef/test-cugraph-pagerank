{
 "cells": [
  {
   "cell_type": "code",
   "execution_count": 21,
   "metadata": {},
   "outputs": [
    {
     "name": "stdout",
     "output_type": "stream",
     "text": [
      "0.052491192817687986\n"
     ]
    }
   ],
   "source": [
    "import time\n",
    "import cugraph\n",
    "import cudf\n",
    "\n",
    "\n",
    "N = 100\n",
    "G = cugraph.Graph()\n",
    "d = cudf.read_csv(\"data/aug2d.csv\", names=[\"src\", \"dst\"], dtype=[\"int32\", \"int32\"])\n",
    "G.from_cudf_edgelist(d, source='src', destination='dst')\n",
    "\n",
    "start = time.time()\n",
    "for i in range(N):\n",
    "    r = cugraph.pagerank(G)\n",
    "stop = time.time()\n",
    "print((stop-start)/N)\n",
    "\n",
    "#for i in range(len(r)):\n",
    "#  print(\"vertex \" + str(r['vertex'].iloc[i]) + \" PageRank is \" + str(r['pagerank'].iloc[i]))"
   ]
  },
  {
   "cell_type": "code",
   "execution_count": null,
   "metadata": {},
   "outputs": [],
   "source": []
  }
 ],
 "metadata": {
  "kernelspec": {
   "display_name": "RAPIDS Stable",
   "language": "python",
   "name": "python3"
  },
  "language_info": {
   "codemirror_mode": {
    "name": "ipython",
    "version": 3
   },
   "file_extension": ".py",
   "mimetype": "text/x-python",
   "name": "python",
   "nbconvert_exporter": "python",
   "pygments_lexer": "ipython3",
   "version": "3.8.5"
  }
 },
 "nbformat": 4,
 "nbformat_minor": 4
}
