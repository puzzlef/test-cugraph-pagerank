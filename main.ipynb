{
 "cells": [
  {
   "cell_type": "code",
   "execution_count": 25,
   "metadata": {},
   "outputs": [
    {
     "name": "stdout",
     "output_type": "stream",
     "text": [
      "Graph: 29008 vertices 38416 edges\n",
      "PageRank time: 16.27101421356201 ms\n"
     ]
    }
   ],
   "source": [
    "import time\n",
    "import cugraph\n",
    "import cudf\n",
    "\n",
    "\n",
    "I = 100\n",
    "G = cugraph.Graph()\n",
    "d = cudf.read_csv(\"data/aug2d.csv\", names=[\"src\", \"dst\"], dtype=[\"int32\", \"int32\"])\n",
    "G.from_cudf_edgelist(d, source='src', destination='dst')\n",
    "\n",
    "start = time.time()\n",
    "for i in range(I):\n",
    "    r = cugraph.pagerank(G)\n",
    "stop = time.time()\n",
    "duration = 1000*(stop-start)/I\n",
    "\n",
    "N = G.number_of_vertices()\n",
    "M = G.number_of_edges()\n",
    "print('Graph:', N, 'vertices', M, 'edges')\n",
    "print('PageRank time:', duration, 'ms')"
   ]
  },
  {
   "cell_type": "code",
   "execution_count": null,
   "metadata": {},
   "outputs": [],
   "source": []
  }
 ],
 "metadata": {
  "kernelspec": {
   "display_name": "RAPIDS Stable",
   "language": "python",
   "name": "python3"
  },
  "language_info": {
   "codemirror_mode": {
    "name": "ipython",
    "version": 3
   },
   "file_extension": ".py",
   "mimetype": "text/x-python",
   "name": "python",
   "nbconvert_exporter": "python",
   "pygments_lexer": "ipython3",
   "version": "3.8.5"
  }
 },
 "nbformat": 4,
 "nbformat_minor": 4
}
